{
 "cells": [
  {
   "cell_type": "markdown",
   "metadata": {},
   "source": [
    "# Décroissance radioactive"
   ]
  },
  {
   "cell_type": "markdown",
   "metadata": {},
   "source": [
    "<div class = 'alert alert-info'>\n",
    "Pour exécuter le code écrit dans un bloc : <b>MAJ-ENTREE </b><br>\n",
    "    Pour recommencer depuis le début : Menu <b>Kernel / Restart and clear output </b><br>\n",
    "    Toujours exécuter dans l'ordre le code  écrit dans les blocs précédés de la mention <b>Entrée  [  ]</b>\n",
    "</div>"
   ]
  },
  {
   "cell_type": "markdown",
   "metadata": {},
   "source": [
    "<div class = 'alert alert-warning'>Importation des modules de calcul et de tracé de courbe.\n",
    "    </div>"
   ]
  },
  {
   "cell_type": "code",
   "execution_count": 1,
   "metadata": {},
   "outputs": [],
   "source": [
    "import numpy as np\n",
    "import matplotlib.pylab as plt"
   ]
  },
  {
   "cell_type": "markdown",
   "metadata": {},
   "source": [
    "## I. Activité d'une population de noyaux radioactifs."
   ]
  },
  {
   "cell_type": "markdown",
   "metadata": {},
   "source": [
    "<div class = 'alert alert-warning'><h3>I.1 Mesures de l'activité d'une population de noyaux radioactifs.</h3><br>\n",
    "    On dispose de mesures de l'activité radioactive effectuées sur une population de noyaux de radon 220.<br>\n",
    "    Les mesures ont été rassemblées dans les deux listes <code class = \"python\">A_mesure</code> et <code class = \"python\">t_mesure</code> correspondant aux activités mesurées en Bequerel (Bq) et aux dates respectives (en s).\n",
    "</div>"
   ]
  },
  {
   "cell_type": "code",
   "execution_count": 2,
   "metadata": {},
   "outputs": [],
   "source": [
    "t_mesure = [0, 7, 14, 21, 28, 35, 42, 49, 56, 63,\n",
    "            70, 77, 84, 91, 98, 105, 112, 119, 126, 133, 140, 147, 154, 161, 168]\n",
    "t_max = max(t_mesure)         # renvoie la valeur maximale du tableau \n",
    "A_mesure = [230, 189, 196, 160, 150, 150, 131, 124, 100,\n",
    "            105, 91, 80, 81, 72, 70, 55, 50, 51, 45, 46, 44, 31, 34, 26, 31]"
   ]
  },
  {
   "cell_type": "markdown",
   "metadata": {},
   "source": [
    "\n",
    "<div class = 'alert alert-warning'>\n",
    "  <H3>I.2 Représentation graphique des mesures</H3><br>  \n",
    "\n",
    "<div class = 'alert alert-info'>\n",
    "    Compléter le code qui permet de représenter <code class = \"python\">A_mesure</code> en fonction de <code class = \"python\">t_mesure</code>.\n",
    "</div>"
   ]
  },
  {
   "cell_type": "code",
   "execution_count": 4,
   "metadata": {},
   "outputs": [
    {
     "data": {
      "text/plain": [
       "Text(0, 0.5, ' A en Bq')"
      ]
     },
     "execution_count": 4,
     "metadata": {},
     "output_type": "execute_result"
    },
    {
     "data": {
      "image/png": "[encoded data removed]",
      "text/plain": [
       "<Figure size 432x288 with 1 Axes>"
      ]
     },
     "metadata": {
      "needs_background": "light"
     },
     "output_type": "display_data"
    }
   ],
   "source": [
    "plt.plot(t_mesure , A_mesure ,\"+\", color = \"blue\")\n",
    "plt.xlabel (\"t en s\" )\n",
    "plt.ylabel (\" A en Bq\" ) "
   ]
  },
  {
   "cell_type": "markdown",
   "metadata": {},
   "source": [
    "<div class = 'alert alert-warning'><h3>I.3 Constante radioactive.</h3><br>\n",
    "    L'activité A(t) est le nombre de désintégration par unité de temps dans une population de noyaux radioactifs.<br>\n",
    "    Elle correspond donc \n",
    "    $$\n",
    "    A(t) = - \\frac {dN(t)} {dt}\n",
    "    $$\n",
    "    <br>\n",
    "    La constante radioactive λ d'un noyau relie le nombre de noyaux présents et l'activité.\n",
    "    $$\n",
    "    A(t) = \\lambda \\times N(t)\n",
    "    $$\n",
    "    l'activité s'exprime en Becquerel (Bq) et la constante radioactive en s<sup>-1</sup>.\n",
    "</div>\n",
    "<div class = 'alert alert-info'>\n",
    "    Sur le compte-rendu, démontrer que\n",
    "    $$\n",
    "    \\frac{ dA(t)}{dt} = - \\lambda \\times A(t) \n",
    "    $$   \n",
    "</div>"
   ]
  },
  {
   "cell_type": "markdown",
   "metadata": {},
   "source": [
    "<div class = 'alert alert-warning'><h3>Valeur de la constante radioactive du radon 220</h3>\n",
    "    </div>"
   ]
  },
  {
   "cell_type": "code",
   "execution_count": 6,
   "metadata": {},
   "outputs": [],
   "source": [
    "lambda_Rn = 0.0125     # en s-1"
   ]
  },
  {
   "cell_type": "markdown",
   "metadata": {},
   "source": [
    "## II. Modélisation par la méthode d'Euler.\n",
    "\n",
    "On cherche ici à à réaliser une prédiction théorique de la courbe décroissance à l'aide d'une méthode itérative appellée \"Méthode d'Euler\". On comparera ensuite cette prédiction à la courbe expérimentale précédemment tracée."
   ]
  },
  {
   "cell_type": "markdown",
   "metadata": {},
   "source": [
    "<div class = 'alert alert-warning'>\n",
    "  <H3>II.1 Présentation de la méthode d'Euler</H3><br>  \n",
    "   La méthode d'Euler donne une approximation de la valeur de A à la date t+Δt en considérant que A(t) va s'accroître de \n",
    "    $$\n",
    "    \\Delta A =\\frac{ dA(t)}{dt}  \\times \\Delta t \n",
    "    $$\n",
    "    <br> et donc, comme $\\Delta A = A(t + \\Delta t) -A(t)$ alors :\n",
    "    $$\n",
    "    A(t + \\Delta t) = A(t) + \\frac{ dA(t)}{dt}  \\times \\Delta t \n",
    "    $$\n",
    "    <br>  <br> \n",
    "    A partir du résultat de la question précédente, on peut \n",
    "    écrire la valeur de l'activité A à la date t+Δt en fonction de A(t) et de son taux d'accroissement.\n",
    "    $$\n",
    "    A(t + \\Delta t ) = A(t) - \\lambda \\times A(t)  \\times \\Delta t\n",
    "    $$\n",
    "</div>\n",
    "<div class = 'alert alert-info'>\n",
    "    a) Sur le compte-rendu, en supposant que A(0) = 230 Bq, calculer A à la date t = 1 s.<br>\n",
    "    b) Déterminer le terme suivant en \"avançant\" encore d'une seconde.\n",
    "</div>"
   ]
  },
  {
   "cell_type": "markdown",
   "metadata": {},
   "source": [
    "<div class = 'alert alert-warning'><h3>II.2 Calcul des valeurs d'activité prédites par la méthode d'Euler.</h3><br>\n",
    "Compléter le code (formules ou commentaires) ci-dessous permettant de calculer, sur un nombre de points défini <code class = \"python\">nombre_points</code>,  les valeurs d'activités à intervalles de temps <code class = \"python\">delta_t</code> réguliers.<br>"
   ]
  },
  {
   "cell_type": "code",
   "execution_count": 17,
   "metadata": {},
   "outputs": [],
   "source": [
    "A_prédit = A_mesure[0]          # initialisation des valeurs avant de commencer les boucles de calcul\n",
    "date = 0\n",
    "    \n",
    "A = np.array(A_mesure[0])       # créations de 2 tableaux \"numpy\" ne contenant que la première valeur\n",
    "t = np.array(0)         \n",
    "\n",
    "nombre_points = 4              # nbre de points à calculer sur l'intervalle de temps entre t = 0 et t_max\n",
    "delta_t = t_max /nombre_points                 # calcul de la durée entre 2 points\n",
    "\n",
    "for i in range(nombre_points):    \n",
    "        A_prédit = A_prédit*(1 - lambda_Rn*delta_t)  # calcul de l'activité à la date t + delta_t à partir de celle à la date t\n",
    "        A = np.append(A,A_prédit)    # ....\n",
    "        date = date + delta_t       # on passe de la date t à t + delta_t\n",
    "        t = np.append(t,date)        # ...."
   ]
  },
  {
   "cell_type": "markdown",
   "metadata": {},
   "source": [
    "## III. Comparaison expérience-modèle théorique."
   ]
  },
  {
   "cell_type": "markdown",
   "metadata": {},
   "source": [
    "<div class = 'alert alert-warning'>Représentation graphique des valeurs mesurées et des valeurs calculées par la modélistaion\n",
    "    </div>"
   ]
  },
  {
   "cell_type": "markdown",
   "metadata": {},
   "source": [
    "\n",
    "<div class = 'alert alert-info'>\n",
    "   a) Ecrire ci-dessous le code qui permet de représenter sur le même graphe <br>\n",
    "    - <code class = \"python\">A_mesure</code> en fonction de <code class = \"python\">t_mesure</code> d'une part<br>\n",
    "    - <code class = \"python\">A_prédit</code> en fonction de <code class = \"python\">date</code> d'autre part.<br>\n",
    "    On pourra changer la couleur du tracé et remplacer les croix <code class = \"python\">+</code> par des points reliés par des segments <code class = \"python\">-o</code> pour le tracé de la modélisation.\n",
    "</div>"
   ]
  },
  {
   "cell_type": "code",
   "execution_count": 20,
   "metadata": {
    "scrolled": true
   },
   "outputs": [
    {
     "data": {
      "text/plain": [
       "Text(0, 0.5, ' A en Bq')"
      ]
     },
     "execution_count": 20,
     "metadata": {},
     "output_type": "execute_result"
    },
    {
     "data": {
      "image/png": "[encoded data removed]",
      "text/plain": [
       "<Figure size 432x288 with 1 Axes>"
      ]
     },
     "metadata": {
      "needs_background": "light"
     },
     "output_type": "display_data"
    }
   ],
   "source": [
    "plt.plot(t_mesure , A_mesure ,\"+\", color = \"blue\")\n",
    "plt.plot(t,A,\"o\", color = \"red\")\n",
    "plt.xlabel (\"t en s\" )\n",
    "plt.ylabel (\" A en Bq\" ) "
   ]
  },
  {
   "cell_type": "markdown",
   "metadata": {},
   "source": [
    "<div class = 'alert alert-info'>\n",
    "   b) La modélisation est-elle conforme aux mesures expérimentales ? Pourquoi? <br>\n",
    "   c) Proposer et tester un moyen d'améliorer la modélisation. <br>\n",
    "</div>"
   ]
  }
 ],
 "metadata": {
  "kernelspec": {
   "display_name": "Python 3",
   "language": "python",
   "name": "python3"
  },
  "language_info": {
   "codemirror_mode": {
    "name": "ipython",
    "version": 3
   },
   "file_extension": ".py",
   "mimetype": "text/x-python",
   "name": "python",
   "nbconvert_exporter": "python",
   "pygments_lexer": "ipython3",
   "version": "3.7.10"
  }
 },
 "nbformat": 4,
 "nbformat_minor": 4
}
