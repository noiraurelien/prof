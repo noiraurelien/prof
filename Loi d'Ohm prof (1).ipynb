{
 "cells": [
  {
   "cell_type": "markdown",
   "metadata": {},
   "source": [
    "# III. Tracé de la caractéristique d'un dipôle et vérification de la loi d'Ohm. "
   ]
  },
  {
   "cell_type": "markdown",
   "metadata": {
    "raw_mimetype": "text/restructuredtext"
   },
   "source": [
    "<div class = 'alert alert-info'>\n",
    "Pour exécuter le code écrit dans un bloc : <b>MAJ-ENTREE </b><br>\n",
    "    Pour recommencer depuis le début : Menu <b>Kernel / Restart and clear output </b><br>\n",
    "    Toujours exécuter dans l'ordre le code  écrit dans les blocs précédés de la mention <b>Entrée  [  ]</b>\n",
    "</div>"
   ]
  },
  {
   "cell_type": "markdown",
   "metadata": {},
   "source": [
    "<div class = 'alert alert-warning'>Importation des modules de calcul et de tracé de courbe.\n",
    "    </div>"
   ]
  },
  {
   "cell_type": "code",
   "execution_count": 1,
   "metadata": {},
   "outputs": [],
   "source": [
    "import matplotlib.pyplot as plt\n",
    "%matplotlib inline\n",
    "import scipy.stats as sc\n",
    "import numpy as np"
   ]
  },
  {
   "cell_type": "markdown",
   "metadata": {},
   "source": [
    "## III.1. Entrée des mesures expérimentales"
   ]
  },
  {
   "cell_type": "markdown",
   "metadata": {},
   "source": [
    "<div class = 'alert alert-info'>\n",
    "Il s'agit ici d'entrer les données de tension et intensité dans des variables Python de type \"liste\" afin de créer des tableaux.</b><br>\n",
    "Entrez entre les crochets les valeurs de U en volts dans le premier tableau, puis de I en mA. <br>\n",
    "Le séparateur décimal doit être le point '.' Chaque valeur de U et de I est séparée de la précédente par une virgule ','\n",
    "</div>"
   ]
  },
  {
   "cell_type": "code",
   "execution_count": 3,
   "metadata": {},
   "outputs": [],
   "source": [
    "liste_U =np.array([0,2.65,4.18,5.50,7.17,8.63,11.48])           # liste des valeurs de tensions \n",
    "liste_I = np.array([0,12.01,18.98,25.3,32.6,39.4,52.7])         # liste des valeurs d'intensités "
   ]
  },
  {
   "cell_type": "markdown",
   "metadata": {},
   "source": [
    "<div class = 'alert alert-warning'>\n",
    "1. Ecrire la ligne de code (à la place des ...) permettant de convertir les valeurs de I en A.</b><br>\n",
    "2. A quoi servent les deux lignes de code qui suivent ? </div>"
   ]
  },
  {
   "cell_type": "code",
   "execution_count": 4,
   "metadata": {},
   "outputs": [
    {
     "name": "stdout",
     "output_type": "stream",
     "text": [
      "U en V :  [ 0.    2.65  4.18  5.5   7.17  8.63 11.48]\n",
      "I en A :  [0.      0.01201 0.01898 0.0253  0.0326  0.0394  0.0527 ]\n"
     ]
    }
   ],
   "source": [
    "liste_I=liste_I/1000                                       # instruction permettant de convertir I en A\n",
    "print(\"U en V : \",liste_U)\n",
    "print(\"I en A : \",liste_I)"
   ]
  },
  {
   "cell_type": "markdown",
   "metadata": {},
   "source": [
    "## III.2. Tracé de la caractéristique"
   ]
  },
  {
   "cell_type": "markdown",
   "metadata": {},
   "source": [
    "<div class = 'alert alert-warning'>\n",
    " 1. Compléter la ligne avec la commande \"pltplot\" afin de faire afficher la caractéristique du dipôle étudié.<br>\n",
    " 2. Compléter les lignes du programme permettant de donner une légende aux axes et un titre au graphique.\n",
    "    </div>"
   ]
  },
  {
   "cell_type": "code",
   "execution_count": 5,
   "metadata": {},
   "outputs": [
    {
     "data": {
      "image/png": "[encoded data removed]",
      "text/plain": [
       "<Figure size 720x576 with 1 Axes>"
      ]
     },
     "metadata": {
      "needs_background": "light"
     },
     "output_type": "display_data"
    }
   ],
   "source": [
    "plt.figure (figsize = (10,8))    # indique les dimensions du graphique  #         \n",
    "plt.plot(liste_I,liste_U,\"ro\")     # indique la grandeur en abscisse, la grandeur en orodonnée,un rond pour représenter le point)  #    \n",
    "plt.xlabel(\" intensité en A   \")    # indique le titre de l'axe des abscisses  #\n",
    "plt.ylabel(\" tension aux bornes de la résistance en V...  \")    # indique le titre de l'axe des ordonnées #\n",
    "plt.title (\" Caractéristique de la résistance\")   # indique le titre du graphique #\n",
    "plt.grid()  # crée une grille sur le graphique #\n",
    "plt.show ()           # fait afficher le graphe #"
   ]
  },
  {
   "cell_type": "markdown",
   "metadata": {},
   "source": [
    "<div class = 'alert alert-info'>\n",
    "Imprimer le graphique obtenu et le coller dans le compte-rendu.\n",
    "    </div>"
   ]
  },
  {
   "cell_type": "markdown",
   "metadata": {},
   "source": [
    "## III.3. Modélisation de la courbe obtenue.\n",
    "\n",
    "<div class = 'alert alert-info'>\n",
    "Il s'agit ici de modéliser la courbe obtenue c'est à dire de trouver la fonction mathématique la plus appropriée pour décrire celle-ci ainsi que de donner l'équation de cette fonction.<br>\n",
    "\n",
    "</div>"
   ]
  },
  {
   "cell_type": "markdown",
   "metadata": {},
   "source": [
    "<div class = 'alert alert-warning'>\n",
    " 1. Indiquer quelle type de fonction mathématique semble la plus appropriée pour modéliser la courbe obtenue ? <br>\n",
    " 2. Rappeler l'équation générale de ce type de fonction puis l'adapter aux grandeurs ici représentées sur les axes\n",
    "    </div>"
   ]
  },
  {
   "cell_type": "code",
   "execution_count": 6,
   "metadata": {},
   "outputs": [
    {
     "data": {
      "image/png": "[encoded data removed]",
      "text/plain": [
       "<Figure size 432x288 with 1 Axes>"
      ]
     },
     "metadata": {
      "needs_background": "light"
     },
     "output_type": "display_data"
    },
    {
     "name": "stdout",
     "output_type": "stream",
     "text": [
      "Le coefficient directeur k est :  218.0133076199597\n",
      "L'ordonnée à l'origine b est :  0.02168163626621229\n"
     ]
    }
   ],
   "source": [
    "# Détermination de l'équation de la courbe par une régression linéaire\n",
    "coeff = np.polyfit(liste_I,liste_U,1)\n",
    "f=np.poly1d(coeff)\n",
    "U_modele= f(liste_I)\n",
    "\n",
    "# Tracé de la regréssion linéaire\n",
    "plt.plot(liste_I,U_modele, color = \"blue\")     # Tracé de la droite modélisée passant au plus près des points\n",
    "plt.plot(liste_I, liste_U,\"ro\")     # tracé de la courbe expérimentale   \n",
    "\n",
    "plt.grid() # Affichage du quadrillage\n",
    "plt.show() # Affichage du graphique\n",
    "print(\"Le coefficient directeur k est : \",coeff[0])  # Valeur du coefficient directeur\n",
    "print(\"L'ordonnée à l'origine b est : \", coeff[1])  # Valeur de l'ordonnée à l'origine"
   ]
  },
  {
   "cell_type": "markdown",
   "metadata": {},
   "source": [
    "<div class = 'alert alert-warning'>\n",
    "3. Noter les valeurs des paramètres obtenues.<br>\n",
    "4. La loi d'Ohm est-elle ici vérifiée ? Justifier.<br>\n",
    "5. Quelle est alors la valeur de la résistance R du dipole ? \n",
    "6. A l'aide d'un multimètre en mode Ohmètre, comparer la mesure précédente à celle donnée par le Ohmètre et conclure. \n",
    "</div>"
   ]
  },
  {
   "cell_type": "markdown",
   "metadata": {},
   "source": [
    "## C'est fini\n",
    "Il ne reste plus qu'à télécharger le fichier !"
   ]
  },
  {
   "cell_type": "markdown",
   "metadata": {},
   "source": [
    "<div class = 'alert alert-success'><h4>La commande suivante imprime toutes les lignes de code exécutées depuis la dernière initialisation de la page (Restart and Clear Output) <br><br>Cela permet de les copier dans Spyder ou dans un fichier .text par exemple.</h4></div>"
   ]
  },
  {
   "cell_type": "code",
   "execution_count": null,
   "metadata": {},
   "outputs": [],
   "source": [
    "%history"
   ]
  }
 ],
 "metadata": {
  "kernelspec": {
   "display_name": "Python 3",
   "language": "python",
   "name": "python3"
  },
  "language_info": {
   "codemirror_mode": {
    "name": "ipython",
    "version": 3
   },
   "file_extension": ".py",
   "mimetype": "text/x-python",
   "name": "python",
   "nbconvert_exporter": "python",
   "pygments_lexer": "ipython3",
   "version": "3.7.10"
  }
 },
 "nbformat": 4,
 "nbformat_minor": 4
}
